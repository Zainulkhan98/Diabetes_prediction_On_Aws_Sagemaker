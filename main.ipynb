{
 "cells": [
  {
   "cell_type": "code",
   "execution_count": 1,
   "id": "initial_id",
   "metadata": {
    "ExecuteTime": {
     "end_time": "2024-04-17T17:04:29.857781Z",
     "start_time": "2024-04-17T17:04:17.093161Z"
    },
    "collapsed": true,
    "jupyter": {
     "outputs_hidden": true
    }
   },
   "outputs": [
    {
     "name": "stdout",
     "output_type": "stream",
     "text": [
      "sagemaker.config INFO - Not applying SDK defaults from location: C:\\ProgramData\\sagemaker\\sagemaker\\config.yaml\n",
      "sagemaker.config INFO - Not applying SDK defaults from location: C:\\Users\\DELL\\AppData\\Local\\sagemaker\\sagemaker\\config.yaml\n"
     ]
    }
   ],
   "source": [
    "import boto3\n",
    "import sagemaker\n",
    "import pandas as pd\n",
    "from sklearn.model_selection import train_test_split"
   ]
  },
  {
   "cell_type": "code",
   "execution_count": null,
   "id": "6fddf5ca647db79c",
   "metadata": {
    "collapsed": false,
    "jupyter": {
     "outputs_hidden": false
    }
   },
   "outputs": [],
   "source": [
    "\n",
    "sm_boto3 = boto3.client('sagemaker')\n",
    "sess = sagemaker.Session()\n",
    "region = sess.boto_session.region_name\n",
    "bucket = 'diabetessagemakerbucket' \n",
    "print(region)\n",
    "print('using this bucket: ', bucket)"
   ]
  },
  {
   "cell_type": "markdown",
   "id": "343b15258671b742",
   "metadata": {
    "collapsed": false,
    "jupyter": {
     "outputs_hidden": false
    }
   },
   "source": [
    "# Load the data"
   ]
  },
  {
   "cell_type": "code",
   "execution_count": 2,
   "id": "753097e5dcc6d8e9",
   "metadata": {
    "ExecuteTime": {
     "end_time": "2024-04-17T17:04:38.167088Z",
     "start_time": "2024-04-17T17:04:38.124781Z"
    },
    "collapsed": false,
    "jupyter": {
     "outputs_hidden": false
    }
   },
   "outputs": [],
   "source": [
    "df = pd.read_csv('diabetes.csv')"
   ]
  },
  {
   "cell_type": "code",
   "execution_count": 3,
   "id": "4f4c82ff9fd51739",
   "metadata": {
    "ExecuteTime": {
     "end_time": "2024-04-17T17:04:40.929018Z",
     "start_time": "2024-04-17T17:04:40.915791Z"
    },
    "collapsed": false,
    "jupyter": {
     "outputs_hidden": false
    }
   },
   "outputs": [
    {
     "name": "stdout",
     "output_type": "stream",
     "text": [
      "['Pregnancies', 'Glucose', 'BloodPressure', 'SkinThickness', 'Insulin', 'BMI', 'DiabetesPedigreeFunction', 'Age', 'Outcome']\n",
      "Outcome\n"
     ]
    }
   ],
   "source": [
    "features = list(df.columns)\n",
    "print(features)\n",
    "labels = features.pop(-1)\n",
    "print(labels)"
   ]
  },
  {
   "cell_type": "code",
   "execution_count": 4,
   "id": "fadfedcbc0ef6203",
   "metadata": {
    "ExecuteTime": {
     "end_time": "2024-04-17T17:04:43.175021Z",
     "start_time": "2024-04-17T17:04:43.151085Z"
    },
    "collapsed": false,
    "jupyter": {
     "outputs_hidden": false
    }
   },
   "outputs": [],
   "source": [
    "x = df[features]\n",
    "y = df[labels]"
   ]
  },
  {
   "cell_type": "code",
   "execution_count": 5,
   "id": "64de45bfaaeba844",
   "metadata": {
    "ExecuteTime": {
     "end_time": "2024-04-17T17:04:45.449209Z",
     "start_time": "2024-04-17T17:04:45.432255Z"
    },
    "collapsed": false,
    "jupyter": {
     "outputs_hidden": false
    }
   },
   "outputs": [
    {
     "name": "stdout",
     "output_type": "stream",
     "text": [
      "(768, 8)\n",
      "(768,)\n"
     ]
    }
   ],
   "source": [
    "print(x.shape)\n",
    "print(y.shape)"
   ]
  },
  {
   "cell_type": "code",
   "execution_count": 6,
   "id": "806e9e3337f83f05",
   "metadata": {
    "ExecuteTime": {
     "end_time": "2024-04-17T17:04:48.722644Z",
     "start_time": "2024-04-17T17:04:48.702064Z"
    },
    "collapsed": false,
    "jupyter": {
     "outputs_hidden": false
    }
   },
   "outputs": [],
   "source": [
    "x_train, x_test, y_train, y_test = train_test_split(x, y, test_size=0.2, random_state=42)"
   ]
  },
  {
   "cell_type": "code",
   "execution_count": 7,
   "id": "d8384a3a467bcf9a",
   "metadata": {
    "ExecuteTime": {
     "end_time": "2024-04-17T17:04:50.894858Z",
     "start_time": "2024-04-17T17:04:50.861097Z"
    },
    "collapsed": false,
    "jupyter": {
     "outputs_hidden": false
    }
   },
   "outputs": [],
   "source": [
    "trainx = pd.DataFrame(x_train)\n",
    "trainx[labels] = y_train\n",
    "\n",
    "testx = pd.DataFrame(x_test)\n",
    "testx[labels] = y_test"
   ]
  },
  {
   "cell_type": "code",
   "execution_count": 8,
   "id": "d5dc977e5d16d1df",
   "metadata": {
    "ExecuteTime": {
     "end_time": "2024-04-17T17:04:53.571085Z",
     "start_time": "2024-04-17T17:04:53.552988Z"
    },
    "collapsed": false,
    "jupyter": {
     "outputs_hidden": false
    }
   },
   "outputs": [
    {
     "name": "stdout",
     "output_type": "stream",
     "text": [
      "(614, 9)\n",
      "(154, 9)\n"
     ]
    }
   ],
   "source": [
    "print(trainx.shape)\n",
    "print(testx.shape)"
   ]
  },
  {
   "cell_type": "code",
   "execution_count": 9,
   "id": "f352cb7ee2a15cd0",
   "metadata": {
    "ExecuteTime": {
     "end_time": "2024-04-17T17:04:55.451678Z",
     "start_time": "2024-04-17T17:04:55.394742Z"
    },
    "collapsed": false,
    "jupyter": {
     "outputs_hidden": false
    }
   },
   "outputs": [],
   "source": [
    "trainx.to_csv('train.csv', index=False)\n",
    "testx.to_csv('test.csv', index=False)"
   ]
  },
  {
   "cell_type": "code",
   "execution_count": 10,
   "id": "fecd1cccb109003d",
   "metadata": {
    "ExecuteTime": {
     "end_time": "2024-04-17T17:05:00.204173Z",
     "start_time": "2024-04-17T17:04:58.724098Z"
    },
    "collapsed": false,
    "jupyter": {
     "outputs_hidden": false
    }
   },
   "outputs": [
    {
     "ename": "NameError",
     "evalue": "name 'sess' is not defined",
     "output_type": "error",
     "traceback": [
      "\u001b[1;31m---------------------------------------------------------------------------\u001b[0m",
      "\u001b[1;31mNameError\u001b[0m                                 Traceback (most recent call last)",
      "Cell \u001b[1;32mIn[10], line 2\u001b[0m\n\u001b[0;32m      1\u001b[0m sk_prefix \u001b[38;5;241m=\u001b[39m \u001b[38;5;124m'\u001b[39m\u001b[38;5;124msagemaker/diabetes/sklearn\u001b[39m\u001b[38;5;124m'\u001b[39m\n\u001b[1;32m----> 2\u001b[0m trainpath \u001b[38;5;241m=\u001b[39m \u001b[43msess\u001b[49m\u001b[38;5;241m.\u001b[39mupload_data(path\u001b[38;5;241m=\u001b[39m\u001b[38;5;124m'\u001b[39m\u001b[38;5;124mtrain.csv\u001b[39m\u001b[38;5;124m'\u001b[39m, bucket\u001b[38;5;241m=\u001b[39mbucket, key_prefix\u001b[38;5;241m=\u001b[39msk_prefix)\n\u001b[0;32m      4\u001b[0m testpath \u001b[38;5;241m=\u001b[39m sess\u001b[38;5;241m.\u001b[39mupload_data(path\u001b[38;5;241m=\u001b[39m\u001b[38;5;124m'\u001b[39m\u001b[38;5;124mtest.csv\u001b[39m\u001b[38;5;124m'\u001b[39m, bucket\u001b[38;5;241m=\u001b[39mbucket, key_prefix\u001b[38;5;241m=\u001b[39msk_prefix)\n\u001b[0;32m      6\u001b[0m \u001b[38;5;28mprint\u001b[39m(trainpath)\n",
      "\u001b[1;31mNameError\u001b[0m: name 'sess' is not defined"
     ]
    }
   ],
   "source": [
    "sk_prefix = 'sagemaker/diabetes/sklearn'\n",
    "trainpath = sess.upload_data(path='train.csv', bucket=bucket, key_prefix=sk_prefix)\n",
    "\n",
    "testpath = sess.upload_data(path='test.csv', bucket=bucket, key_prefix=sk_prefix)\n",
    "\n",
    "print(trainpath)\n",
    "print(testpath)"
   ]
  },
  {
   "cell_type": "code",
   "execution_count": null,
   "id": "a67ffa7b20243047",
   "metadata": {
    "collapsed": false,
    "jupyter": {
     "outputs_hidden": false
    }
   },
   "outputs": [],
   "source": [
    "%%writefile script.py\n",
    "\n",
    "import os\n",
    "import joblib\n",
    "import pandas as pd\n",
    "from sklearn.metrics import classification_report\n",
    "from sklearn.ensemble import RandomForestClassifier\n",
    "from sklearn.metrics import accuracy_score\n",
    "import sklearn\n",
    "import argparse\n",
    "\n",
    "print('Importing Libraries')\n",
    "def model_fn(model_dir):\n",
    "    clf = joblib.load(os.path.join(model_dir, \"model.joblib\"))\n",
    "    return clf\n",
    "\n",
    "print('Model Function has been defined')\n",
    "if __name__ == '__main__':\n",
    "    print('[INFO] Extracting Arguments')\n",
    "    parser = argparse.ArgumentParser()\n",
    "    \n",
    "    #Hyperparameters\n",
    "    parser.add_argument('--n_estimators', type=int, default=100)\n",
    "    parser.add_argument('--random_state', type=int, default=0)\n",
    "    \n",
    "    \n",
    "    \n",
    "    # Data, model, and output directories\n",
    "    parser.add_argument('--model-dir', type=str, default=os.environ.get('SM_MODEL_DIR'))\n",
    "    parser.add_argument('--train', type=str, default=os.environ.get('SM_CHANNEL_TRAIN'))\n",
    "    parser.add_argument('--test', type=str, default=os.environ.get('SM_CHANNEL_TEST'))\n",
    "    parser.add_argument('--train-file', type=str, default='train.csv')\n",
    "    parser.add_argument('--test-file',type=str, default='test.csv')\n",
    "    \n",
    "    print('Arguments have been defined')\n",
    "    \n",
    "    args,_ = parser.parse_known_args()\n",
    "    print(\"sklearn version: \",  sklearn.__version__)\n",
    "    print('joblib version: ', joblib.__version__)\n",
    "    \n",
    "    print('[INFO] Reading Data')\n",
    "    print()\n",
    "    \n",
    "    \n",
    "    train_df = pd.read_csv(os.path.join(args.train, args.train_file))\n",
    "    test_df = pd.read_csv(os.path.join(args.test, args.test_file))\n",
    "    \n",
    "    features = list(train_df.columns)\n",
    "    label = features.pop(-1)\n",
    "    \n",
    "    print(\"Building training and testing datasets\")\n",
    "    print()\n",
    "    \n",
    "    x_train = train_df[features]\n",
    "    x_test  = test_df[features]\n",
    "    y_train = train_df[label]\n",
    "    y_test  = test_df[label]\n",
    "    \n",
    "    print('Data has been splitted')\n",
    "    \n",
    "    print('column order: ')\n",
    "    print(features)\n",
    "    print()\n",
    "    \n",
    "    \n",
    "    print('label column is : ',label)\n",
    "    print(label)\n",
    "    print()\n",
    "    \n",
    "    print('data shape: ')\n",
    "    \n",
    "    print(\"------train data shape: \")\n",
    "    print('x_train shape: ', x_train.shape)\n",
    "    print('y_train shape: ', y_train.shape)\n",
    "    \n",
    "    print(\"------test data shape: \")\n",
    "    print('x_test shape: ', x_test.shape)\n",
    "    print('y_test shape: ', y_test.shape)\n",
    "    print()\n",
    "    \n",
    "    print('Training Model.......')\n",
    "    print()\n",
    "    model = RandomForestClassifier(n_estimators=args.n_estimators, random_state=args.random_state,verbose=1)\n",
    "    model.fit(x_train, y_train)\n",
    "    print('Model has been trained')\n",
    "    \n",
    "    model_path = os.path.join(args.model_dir, \"model.joblib\")\n",
    "    joblib.dump(model, model_path)\n",
    "    print('Model has been saved')\n",
    "    print()\n",
    "    \n",
    "    print('Evaluating Model')\n",
    "    y_pred_test = model.predict(x_test)\n",
    "    test_acc = accuracy_score(y_test, y_pred_test)\n",
    "    test_rep = classification_report(y_test, y_pred_test)\n",
    "\n",
    "\n",
    "    print()\n",
    "    print('Model has been evaluated')\n",
    "    print()\n",
    "    print('Test Accuracy: ', test_acc)\n",
    "    print('Classification Report: ')\n",
    "    print(test_rep)\n",
    "    print()"
   ]
  },
  {
   "cell_type": "code",
   "execution_count": null,
   "id": "5539a4809ac0121b",
   "metadata": {
    "collapsed": false,
    "jupyter": {
     "outputs_hidden": false
    }
   },
   "outputs": [],
   "source": [
    "from sagemaker.sklearn.estimator import SKLearn\n",
    "\n",
    "FRAMEWORK_VERSION = \"0.23-1\"\n",
    "\n",
    "sklearn_estimator = SKLearn(\n",
    "    entry_point='script.py',\n",
    "    role='',#fill in the role(copy the arn from the role you created in the IAM console)\n",
    "    instance_count=1,\n",
    "    instance_type='ml.m5.large',\n",
    "    framework_version=FRAMEWORK_VERSION,\n",
    "    base_job_name='diabetes-sklearn',\n",
    "    hyperparameters={\n",
    "        'n_estimators': 100,\n",
    "        'random_state': 0\n",
    "    },\n",
    "    use_spot_instances=True,\n",
    "    max_wait=7200,\n",
    "    max_run=3600\n",
    ")"
   ]
  },
  {
   "cell_type": "code",
   "execution_count": null,
   "id": "25783e5a12cc94a3",
   "metadata": {
    "collapsed": false,
    "jupyter": {
     "outputs_hidden": false
    }
   },
   "outputs": [],
   "source": [
    "#launch training job with asynchronous call\n",
    "sklearn_estimator.fit({'train': trainpath, 'test': testpath}, wait=True)"
   ]
  },
  {
   "cell_type": "code",
   "execution_count": null,
   "id": "1368970b4b63fada",
   "metadata": {
    "collapsed": false,
    "jupyter": {
     "outputs_hidden": false
    }
   },
   "outputs": [],
   "source": [
    "#deploy the model\n",
    "sklearn_estimator.latest_training_job.wait(logs='None')\n",
    "artifact = sm_boto3.describe_training_job(\n",
    "    TrainingJobName=sklearn_estimator.latest_training_job.name\n",
    ")['ModelArtifacts']['S3ModelArtifacts']\n",
    "\n",
    "print('Model artifact saved at: ', artifact)"
   ]
  },
  {
   "cell_type": "code",
   "execution_count": null,
   "id": "3c7912f8dfd9a1f2",
   "metadata": {
    "collapsed": false,
    "jupyter": {
     "outputs_hidden": false
    }
   },
   "outputs": [],
   "source": [
    "from sagemaker.sklearn.model import SKLearnModel\n",
    "from time import gmtime, strftime\n",
    "\n",
    "model_name = 'diabetes-sklearn-model' + strftime(\"%Y-%m-%d-%H-%M-%S\", gmtime())\n",
    "sklearn_model = SKLearnModel(\n",
    "    name=model_name,\n",
    "    model_data=artifact,\n",
    "    role='',#fill in the role(copy the arn from the role you created in the IAM console)\n",
    "    entry_point='script.py',\n",
    "    framework_version=FRAMEWORK_VERSION\n",
    ")"
   ]
  },
  {
   "cell_type": "code",
   "execution_count": null,
   "id": "a7b0abd1d3621165",
   "metadata": {
    "collapsed": false,
    "jupyter": {
     "outputs_hidden": false
    }
   },
   "outputs": [],
   "source": [
    "print(sklearn_model)\n",
    "model_name"
   ]
  },
  {
   "cell_type": "code",
   "execution_count": null,
   "id": "3c152ff1a6db1b11",
   "metadata": {
    "collapsed": false,
    "jupyter": {
     "outputs_hidden": false
    }
   },
   "outputs": [],
   "source": [
    "endpoint_name = 'diabetes-sklearn-endpoint'+ strftime(\"%Y-%m-%d-%H-%M-%S\", gmtime())\n",
    "predictor = sklearn_model.deploy(\n",
    "    instance_type='ml.t2.medium',\n",
    "    initial_instance_count=1,\n",
    "    endpoint_name=endpoint_name\n",
    ")"
   ]
  },
  {
   "cell_type": "code",
   "execution_count": null,
   "id": "997994d3bda223f7",
   "metadata": {
    "collapsed": false,
    "jupyter": {
     "outputs_hidden": false
    }
   },
   "outputs": [],
   "source": [
    "print(endpoint_name)\n",
    "predictor"
   ]
  },
  {
   "cell_type": "code",
   "execution_count": null,
   "id": "7fce139cde77357e",
   "metadata": {
    "collapsed": false,
    "jupyter": {
     "outputs_hidden": false
    }
   },
   "outputs": [],
   "source": [
    "a = testx[features][152:154].values.tolist()\n",
    "print(a)\n"
   ]
  },
  {
   "cell_type": "code",
   "execution_count": null,
   "id": "5957c7dcfe6880d0",
   "metadata": {
    "collapsed": false,
    "jupyter": {
     "outputs_hidden": false
    }
   },
   "outputs": [],
   "source": [
    "predictor.predict(a)"
   ]
  },
  {
   "cell_type": "code",
   "execution_count": null,
   "id": "9001dc8fcb47c6be",
   "metadata": {
    "collapsed": false,
    "jupyter": {
     "outputs_hidden": false
    }
   },
   "outputs": [],
   "source": [
    "sm_boto3.delete_endpoint(EndpointName=endpoint_name)"
   ]
  },
  {
   "cell_type": "code",
   "execution_count": null,
   "id": "36aa0b991aa364fc",
   "metadata": {
    "collapsed": false,
    "jupyter": {
     "outputs_hidden": false
    }
   },
   "outputs": [],
   "source": []
  }
 ],
 "metadata": {
  "kernelspec": {
   "display_name": "Python 3 (ipykernel)",
   "language": "python",
   "name": "python3"
  },
  "language_info": {
   "codemirror_mode": {
    "name": "ipython",
    "version": 3
   },
   "file_extension": ".py",
   "mimetype": "text/x-python",
   "name": "python",
   "nbconvert_exporter": "python",
   "pygments_lexer": "ipython3",
   "version": "3.8.10"
  }
 },
 "nbformat": 4,
 "nbformat_minor": 5
}
