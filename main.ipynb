{
 "cells": [
  {
   "cell_type": "code",
   "execution_count": 3,
   "id": "initial_id",
   "metadata": {
    "collapsed": true,
    "ExecuteTime": {
     "end_time": "2024-04-16T05:33:24.763461Z",
     "start_time": "2024-04-16T05:33:24.742517Z"
    }
   },
   "outputs": [],
   "source": [
    "import boto3\n",
    "import sagemaker\n",
    "import pandas as pd\n",
    "from sklearn.model_selection import train_test_split"
   ]
  },
  {
   "cell_type": "code",
   "outputs": [
    {
     "name": "stdout",
     "output_type": "stream",
     "text": [
      "us-east-1\n",
      "using this bucket:  diabetessagemakerbucket\n"
     ]
    }
   ],
   "source": [
    "\n",
    "sm_boto3 = boto3.client('sagemaker')\n",
    "sess = sagemaker.Session()\n",
    "region = sess.boto_session.region_name\n",
    "bucket = 'diabetessagemakerbucket'\n",
    "print(region)\n",
    "print('using this bucket: ', bucket)"
   ],
   "metadata": {
    "collapsed": false,
    "ExecuteTime": {
     "end_time": "2024-04-16T05:49:59.907595Z",
     "start_time": "2024-04-16T05:49:59.828804Z"
    }
   },
   "id": "6fddf5ca647db79c",
   "execution_count": 18
  },
  {
   "cell_type": "code",
   "outputs": [],
   "source": [
    "df = pd.read_csv('diabetes.csv')"
   ],
   "metadata": {
    "collapsed": false,
    "ExecuteTime": {
     "end_time": "2024-04-16T05:34:49.026615Z",
     "start_time": "2024-04-16T05:34:48.951809Z"
    }
   },
   "id": "753097e5dcc6d8e9",
   "execution_count": 7
  },
  {
   "cell_type": "code",
   "outputs": [
    {
     "name": "stdout",
     "output_type": "stream",
     "text": [
      "['Pregnancies', 'Glucose', 'BloodPressure', 'SkinThickness', 'Insulin', 'BMI', 'DiabetesPedigreeFunction', 'Age', 'Outcome']\n",
      "Outcome\n"
     ]
    }
   ],
   "source": [
    "features = list(df.columns)\n",
    "print(features)\n",
    "labels = features.pop(-1)\n",
    "print(labels)"
   ],
   "metadata": {
    "collapsed": false,
    "ExecuteTime": {
     "end_time": "2024-04-16T05:44:25.758823Z",
     "start_time": "2024-04-16T05:44:25.739874Z"
    }
   },
   "id": "4f4c82ff9fd51739",
   "execution_count": 11
  },
  {
   "cell_type": "code",
   "outputs": [],
   "source": [
    "x = df[features]\n",
    "y = df[labels]"
   ],
   "metadata": {
    "collapsed": false,
    "ExecuteTime": {
     "end_time": "2024-04-16T05:44:53.428199Z",
     "start_time": "2024-04-16T05:44:53.404264Z"
    }
   },
   "id": "fadfedcbc0ef6203",
   "execution_count": 12
  },
  {
   "cell_type": "code",
   "outputs": [
    {
     "name": "stdout",
     "output_type": "stream",
     "text": [
      "(768, 8)\n",
      "(768,)\n"
     ]
    }
   ],
   "source": [
    "print(x.shape)\n",
    "print(y.shape)"
   ],
   "metadata": {
    "collapsed": false,
    "ExecuteTime": {
     "end_time": "2024-04-16T05:44:55.919394Z",
     "start_time": "2024-04-16T05:44:55.898448Z"
    }
   },
   "id": "64de45bfaaeba844",
   "execution_count": 13
  },
  {
   "cell_type": "code",
   "outputs": [],
   "source": [
    "x_train, x_test, y_train, y_test = train_test_split(x, y, test_size=0.2, random_state=42)"
   ],
   "metadata": {
    "collapsed": false,
    "ExecuteTime": {
     "end_time": "2024-04-16T05:45:01.823760Z",
     "start_time": "2024-04-16T05:45:01.805807Z"
    }
   },
   "id": "806e9e3337f83f05",
   "execution_count": 14
  },
  {
   "cell_type": "code",
   "outputs": [],
   "source": [
    "trainx = pd.DataFrame(x_train)\n",
    "trainx[labels] = y_train\n",
    "\n",
    "testx = pd.DataFrame(x_test)\n",
    "testx[labels] = y_test"
   ],
   "metadata": {
    "collapsed": false,
    "ExecuteTime": {
     "end_time": "2024-04-16T05:47:58.008624Z",
     "start_time": "2024-04-16T05:47:57.992704Z"
    }
   },
   "id": "d8384a3a467bcf9a",
   "execution_count": 15
  },
  {
   "cell_type": "code",
   "outputs": [
    {
     "name": "stdout",
     "output_type": "stream",
     "text": [
      "(614, 9)\n",
      "(154, 9)\n"
     ]
    }
   ],
   "source": [
    "print(trainx.shape)\n",
    "print(testx.shape)"
   ],
   "metadata": {
    "collapsed": false,
    "ExecuteTime": {
     "end_time": "2024-04-16T05:48:01.814180Z",
     "start_time": "2024-04-16T05:48:01.808196Z"
    }
   },
   "id": "d5dc977e5d16d1df",
   "execution_count": 16
  },
  {
   "cell_type": "code",
   "outputs": [],
   "source": [
    "trainx.to_csv('train.csv', index=False)\n",
    "testx.to_csv('test.csv', index=False)"
   ],
   "metadata": {
    "collapsed": false,
    "ExecuteTime": {
     "end_time": "2024-04-16T05:50:33.707686Z",
     "start_time": "2024-04-16T05:50:33.621727Z"
    }
   },
   "id": "f352cb7ee2a15cd0",
   "execution_count": 20
  },
  {
   "cell_type": "code",
   "outputs": [
    {
     "name": "stdout",
     "output_type": "stream",
     "text": [
      "s3://diabetessagemakerbucket/sagemaker/diabetes/sklearn/train.csv\n",
      "s3://diabetessagemakerbucket/sagemaker/diabetes/sklearn/test.csv\n"
     ]
    }
   ],
   "source": [
    "sk_prefix = 'sagemaker/diabetes/sklearn'\n",
    "trainpath = sess.upload_data(path='train.csv', bucket=bucket, key_prefix=sk_prefix)\n",
    "\n",
    "testpath = sess.upload_data(path='test.csv', bucket=bucket, key_prefix=sk_prefix)\n",
    "\n",
    "print(trainpath)\n",
    "print(testpath)"
   ],
   "metadata": {
    "collapsed": false,
    "ExecuteTime": {
     "end_time": "2024-04-16T05:52:25.126530Z",
     "start_time": "2024-04-16T05:52:22.973216Z"
    }
   },
   "id": "fecd1cccb109003d",
   "execution_count": 22
  },
  {
   "cell_type": "code",
   "outputs": [
    {
     "name": "stdout",
     "output_type": "stream",
     "text": [
      "Writing script.py\n"
     ]
    }
   ],
   "source": [
    "%%writefile script.py\n",
    "\n",
    "import os\n",
    "import joblib\n",
    "import pandas as pd\n",
    "from sklearn.metrics import classification_report\n",
    "from sklearn.ensemble import RandomForestClassifier\n",
    "from sklearn.metrics import accuracy_score, precision_score, recall_score, f1_score\n",
    "import pathlib\n",
    "from io import StringIO\n",
    "import boto3\n",
    "import sklearn\n",
    "import argparse\n",
    "\n",
    "print('Importing Libraries')\n",
    "def model_fn(model_dir):\n",
    "    clf = joblib.load(os.path.join(model_dir, \"model.joblib\"))\n",
    "    return clf\n",
    "\n",
    "print('Model Function has been defined')\n",
    "if __name__ == '__main__':\n",
    "    print('[INFO] Extracting Arguments')\n",
    "    parser = argparse.ArgumentParser()\n",
    "    \n",
    "    #Hyperparameters\n",
    "    parser.add_argument('--n_estimators', type=int, default=100)\n",
    "    parser.add_argument('--random_state', type=int, default=0)\n",
    "    \n",
    "    \n",
    "    \n",
    "    # Data, model, and output directories\n",
    "    parser.add_argument('--model-dir', type=str, default=os.environ.get('SM_MODEL_DIR'))\n",
    "    parser.add_argument('--train', type=str, default=os.environ.get('SM_CHANNEL_TRAIN'))\n",
    "    parser.add_argument('--test', type=str, default=os.environ.get('SM_CHANNEL_TEST'))\n",
    "    parser.add_argument('--train-file', type=str, default='train.csv')\n",
    "    parser.add_argument('--test-file',type=str, default='test.csv')\n",
    "    \n",
    "    print('Arguments have been defined')\n",
    "    \n",
    "    args,_ = parser.parse_known_args()\n",
    "    print(\"sklearn version: \",  sklearn.__version__)\n",
    "    print('joblib version: ', joblib.__version__)\n",
    "    \n",
    "    print('[INFO] Reading Data')\n",
    "    print()\n",
    "    \n",
    "    \n",
    "    train_df = pd.read_csv(os.path.join(args.train, args.train_file))\n",
    "    test_df = pd.read_csv(os.path.join(args.test, args.test_file))\n",
    "    \n",
    "    features = list(train_df.columns)\n",
    "    label = features.pop(-1)\n",
    "    \n",
    "    print(\"Building training and testing datasets\")\n",
    "    print()\n",
    "    \n",
    "    x_train = train_df[features]\n",
    "    x_test  = test_df[features]\n",
    "    y_train = train_df[label]\n",
    "    y_test  = test_df[label]\n",
    "    \n",
    "    print('Data has been splitted')\n",
    "    \n",
    "    print('column order: ')\n",
    "    print(features)\n",
    "    print()\n",
    "    \n",
    "    \n",
    "    print('label column is : ',label)\n",
    "    print(label)\n",
    "    print()\n",
    "    \n",
    "    print('data shape: ')\n",
    "    \n",
    "    print(\"------train data shape: \")\n",
    "    print('x_train shape: ', x_train.shape)\n",
    "    print('y_train shape: ', y_train.shape)\n",
    "    \n",
    "    print(\"------test data shape: \")\n",
    "    print('x_test shape: ', x_test.shape)\n",
    "    print('y_test shape: ', y_test.shape)\n",
    "    print()\n",
    "    \n",
    "    print('Training Model.......')\n",
    "    print()\n",
    "    model = RandomForestClassifier(n_estimators=args.n_estimators, random_state=args.random_state,verbose=1)\n",
    "    model.fit(x_train, y_train)\n",
    "    print('Model has been trained')\n",
    "    \n",
    "    model_path = os.path.join(args.model_dir, \"model.joblib\")\n",
    "    joblib.dump(model, model_path)\n",
    "    print('Model has been saved')\n",
    "    print()\n",
    "    \n",
    "    print('Evaluating Model')\n",
    "    y_pred_test = model.predict(x_test)\n",
    "    test_acc = accuracy_score(y_test, y_pred_test)\n",
    "    test_rep = classification_report(y_test, y_pred_test)\n",
    "\n",
    "\n",
    "    print()\n",
    "    print('Model has been evaluated')\n",
    "    print()\n",
    "    print('Test Accuracy: ', test_acc)\n",
    "    print('Classification Report: ')\n",
    "    print(test_rep)\n",
    "    print()"
   ],
   "metadata": {
    "collapsed": false,
    "ExecuteTime": {
     "end_time": "2024-04-16T06:15:26.854279Z",
     "start_time": "2024-04-16T06:15:26.649957Z"
    }
   },
   "id": "a67ffa7b20243047",
   "execution_count": 23
  },
  {
   "cell_type": "code",
   "outputs": [],
   "source": [
    "from sagemaker.sklearn.estimator import SKLearn\n",
    "\n",
    "FRAMEWORK_VERSION = \"0.23-1\"\n",
    "\n",
    "sklearn_estimator = SKLearn(\n",
    "    entry_point='script.py',\n",
    "    role='arn:aws:iam::975050189259:role/awsendtoendrole',\n",
    "    instance_count=1,\n",
    "    instance_type='ml.m5.large',\n",
    "    framework_version=FRAMEWORK_VERSION,\n",
    "    base_job_name='diabetes-sklearn',\n",
    "    hyperparameters={\n",
    "        'n_estimators': 100,\n",
    "        'random_state': 0\n",
    "    },\n",
    "    use_spot_instances=True,\n",
    "    max_wait=7200,\n",
    "    max_run=3600\n",
    ")"
   ],
   "metadata": {
    "collapsed": false,
    "ExecuteTime": {
     "end_time": "2024-04-16T06:28:40.854569Z",
     "start_time": "2024-04-16T06:28:37.413794Z"
    }
   },
   "id": "5539a4809ac0121b",
   "execution_count": 27
  },
  {
   "cell_type": "code",
   "outputs": [
    {
     "name": "stderr",
     "output_type": "stream",
     "text": [
      "INFO:sagemaker:Creating training-job with name: diabetes-sklearn-2024-04-16-06-28-43-385\n"
     ]
    },
    {
     "name": "stdout",
     "output_type": "stream",
     "text": [
      "2024-04-16 06:28:49 Starting - Starting the training job...\n",
      "2024-04-16 06:29:04 Starting - Preparing the instances for training...\n",
      "2024-04-16 06:29:45 Downloading - Downloading input data...\n",
      "2024-04-16 06:30:16 Downloading - Downloading the training image...\n",
      "2024-04-16 06:31:02 Training - Training image download completed. Training in progress.\n",
      "2024-04-16 06:31:02 Uploading - Uploading generated training model.\u001B[34m2024-04-16 06:30:55,713 sagemaker-containers INFO     Imported framework sagemaker_sklearn_container.training\u001B[0m\n",
      "\u001B[34m2024-04-16 06:30:55,717 sagemaker-training-toolkit INFO     No GPUs detected (normal if no gpus installed)\u001B[0m\n",
      "\u001B[34m2024-04-16 06:30:55,774 sagemaker_sklearn_container.training INFO     Invoking user training script.\u001B[0m\n",
      "\u001B[34m2024-04-16 06:30:55,967 sagemaker-training-toolkit INFO     No GPUs detected (normal if no gpus installed)\u001B[0m\n",
      "\u001B[34m2024-04-16 06:30:55,980 sagemaker-training-toolkit INFO     No GPUs detected (normal if no gpus installed)\u001B[0m\n",
      "\u001B[34m2024-04-16 06:30:55,993 sagemaker-training-toolkit INFO     No GPUs detected (normal if no gpus installed)\u001B[0m\n",
      "\u001B[34m2024-04-16 06:30:56,002 sagemaker-training-toolkit INFO     Invoking user script\u001B[0m\n",
      "\u001B[34mTraining Env:\u001B[0m\n",
      "\u001B[34m{\n",
      "    \"additional_framework_parameters\": {},\n",
      "    \"channel_input_dirs\": {\n",
      "        \"test\": \"/opt/ml/input/data/test\",\n",
      "        \"train\": \"/opt/ml/input/data/train\"\n",
      "    },\n",
      "    \"current_host\": \"algo-1\",\n",
      "    \"framework_module\": \"sagemaker_sklearn_container.training:main\",\n",
      "    \"hosts\": [\n",
      "        \"algo-1\"\n",
      "    ],\n",
      "    \"hyperparameters\": {\n",
      "        \"n_estimators\": 100,\n",
      "        \"random_state\": 0\n",
      "    },\n",
      "    \"input_config_dir\": \"/opt/ml/input/config\",\n",
      "    \"input_data_config\": {\n",
      "        \"test\": {\n",
      "            \"TrainingInputMode\": \"File\",\n",
      "            \"S3DistributionType\": \"FullyReplicated\",\n",
      "            \"RecordWrapperType\": \"None\"\n",
      "        },\n",
      "        \"train\": {\n",
      "            \"TrainingInputMode\": \"File\",\n",
      "            \"S3DistributionType\": \"FullyReplicated\",\n",
      "            \"RecordWrapperType\": \"None\"\n",
      "        }\n",
      "    },\n",
      "    \"input_dir\": \"/opt/ml/input\",\n",
      "    \"is_master\": true,\n",
      "    \"job_name\": \"diabetes-sklearn-2024-04-16-06-28-43-385\",\n",
      "    \"log_level\": 20,\n",
      "    \"master_hostname\": \"algo-1\",\n",
      "    \"model_dir\": \"/opt/ml/model\",\n",
      "    \"module_dir\": \"s3://sagemaker-us-east-1-975050189259/diabetes-sklearn-2024-04-16-06-28-43-385/source/sourcedir.tar.gz\",\n",
      "    \"module_name\": \"script\",\n",
      "    \"network_interface_name\": \"eth0\",\n",
      "    \"num_cpus\": 2,\n",
      "    \"num_gpus\": 0,\n",
      "    \"output_data_dir\": \"/opt/ml/output/data\",\n",
      "    \"output_dir\": \"/opt/ml/output\",\n",
      "    \"output_intermediate_dir\": \"/opt/ml/output/intermediate\",\n",
      "    \"resource_config\": {\n",
      "        \"current_host\": \"algo-1\",\n",
      "        \"current_instance_type\": \"ml.m5.large\",\n",
      "        \"current_group_name\": \"homogeneousCluster\",\n",
      "        \"hosts\": [\n",
      "            \"algo-1\"\n",
      "        ],\n",
      "        \"instance_groups\": [\n",
      "            {\n",
      "                \"instance_group_name\": \"homogeneousCluster\",\n",
      "                \"instance_type\": \"ml.m5.large\",\n",
      "                \"hosts\": [\n",
      "                    \"algo-1\"\n",
      "                ]\n",
      "            }\n",
      "        ],\n",
      "        \"network_interface_name\": \"eth0\"\n",
      "    },\n",
      "    \"user_entry_point\": \"script.py\"\u001B[0m\n",
      "\u001B[34m}\u001B[0m\n",
      "\u001B[34mEnvironment variables:\u001B[0m\n",
      "\u001B[34mSM_HOSTS=[\"algo-1\"]\u001B[0m\n",
      "\u001B[34mSM_NETWORK_INTERFACE_NAME=eth0\u001B[0m\n",
      "\u001B[34mSM_HPS={\"n_estimators\":100,\"random_state\":0}\u001B[0m\n",
      "\u001B[34mSM_USER_ENTRY_POINT=script.py\u001B[0m\n",
      "\u001B[34mSM_FRAMEWORK_PARAMS={}\u001B[0m\n",
      "\u001B[34mSM_RESOURCE_CONFIG={\"current_group_name\":\"homogeneousCluster\",\"current_host\":\"algo-1\",\"current_instance_type\":\"ml.m5.large\",\"hosts\":[\"algo-1\"],\"instance_groups\":[{\"hosts\":[\"algo-1\"],\"instance_group_name\":\"homogeneousCluster\",\"instance_type\":\"ml.m5.large\"}],\"network_interface_name\":\"eth0\"}\u001B[0m\n",
      "\u001B[34mSM_INPUT_DATA_CONFIG={\"test\":{\"RecordWrapperType\":\"None\",\"S3DistributionType\":\"FullyReplicated\",\"TrainingInputMode\":\"File\"},\"train\":{\"RecordWrapperType\":\"None\",\"S3DistributionType\":\"FullyReplicated\",\"TrainingInputMode\":\"File\"}}\u001B[0m\n",
      "\u001B[34mSM_OUTPUT_DATA_DIR=/opt/ml/output/data\u001B[0m\n",
      "\u001B[34mSM_CHANNELS=[\"test\",\"train\"]\u001B[0m\n",
      "\u001B[34mSM_CURRENT_HOST=algo-1\u001B[0m\n",
      "\u001B[34mSM_MODULE_NAME=script\u001B[0m\n",
      "\u001B[34mSM_LOG_LEVEL=20\u001B[0m\n",
      "\u001B[34mSM_FRAMEWORK_MODULE=sagemaker_sklearn_container.training:main\u001B[0m\n",
      "\u001B[34mSM_INPUT_DIR=/opt/ml/input\u001B[0m\n",
      "\u001B[34mSM_INPUT_CONFIG_DIR=/opt/ml/input/config\u001B[0m\n",
      "\u001B[34mSM_OUTPUT_DIR=/opt/ml/output\u001B[0m\n",
      "\u001B[34mSM_NUM_CPUS=2\u001B[0m\n",
      "\u001B[34mSM_NUM_GPUS=0\u001B[0m\n",
      "\u001B[34mSM_MODEL_DIR=/opt/ml/model\u001B[0m\n",
      "\u001B[34mSM_MODULE_DIR=s3://sagemaker-us-east-1-975050189259/diabetes-sklearn-2024-04-16-06-28-43-385/source/sourcedir.tar.gz\u001B[0m\n",
      "\u001B[34mSM_TRAINING_ENV={\"additional_framework_parameters\":{},\"channel_input_dirs\":{\"test\":\"/opt/ml/input/data/test\",\"train\":\"/opt/ml/input/data/train\"},\"current_host\":\"algo-1\",\"framework_module\":\"sagemaker_sklearn_container.training:main\",\"hosts\":[\"algo-1\"],\"hyperparameters\":{\"n_estimators\":100,\"random_state\":0},\"input_config_dir\":\"/opt/ml/input/config\",\"input_data_config\":{\"test\":{\"RecordWrapperType\":\"None\",\"S3DistributionType\":\"FullyReplicated\",\"TrainingInputMode\":\"File\"},\"train\":{\"RecordWrapperType\":\"None\",\"S3DistributionType\":\"FullyReplicated\",\"TrainingInputMode\":\"File\"}},\"input_dir\":\"/opt/ml/input\",\"is_master\":true,\"job_name\":\"diabetes-sklearn-2024-04-16-06-28-43-385\",\"log_level\":20,\"master_hostname\":\"algo-1\",\"model_dir\":\"/opt/ml/model\",\"module_dir\":\"s3://sagemaker-us-east-1-975050189259/diabetes-sklearn-2024-04-16-06-28-43-385/source/sourcedir.tar.gz\",\"module_name\":\"script\",\"network_interface_name\":\"eth0\",\"num_cpus\":2,\"num_gpus\":0,\"output_data_dir\":\"/opt/ml/output/data\",\"output_dir\":\"/opt/ml/output\",\"output_intermediate_dir\":\"/opt/ml/output/intermediate\",\"resource_config\":{\"current_group_name\":\"homogeneousCluster\",\"current_host\":\"algo-1\",\"current_instance_type\":\"ml.m5.large\",\"hosts\":[\"algo-1\"],\"instance_groups\":[{\"hosts\":[\"algo-1\"],\"instance_group_name\":\"homogeneousCluster\",\"instance_type\":\"ml.m5.large\"}],\"network_interface_name\":\"eth0\"},\"user_entry_point\":\"script.py\"}\u001B[0m\n",
      "\u001B[34mSM_USER_ARGS=[\"--n_estimators\",\"100\",\"--random_state\",\"0\"]\u001B[0m\n",
      "\u001B[34mSM_OUTPUT_INTERMEDIATE_DIR=/opt/ml/output/intermediate\u001B[0m\n",
      "\u001B[34mSM_CHANNEL_TEST=/opt/ml/input/data/test\u001B[0m\n",
      "\u001B[34mSM_CHANNEL_TRAIN=/opt/ml/input/data/train\u001B[0m\n",
      "\u001B[34mSM_HP_N_ESTIMATORS=100\u001B[0m\n",
      "\u001B[34mSM_HP_RANDOM_STATE=0\u001B[0m\n",
      "\u001B[34mPYTHONPATH=/opt/ml/code:/miniconda3/bin:/miniconda3/lib/python37.zip:/miniconda3/lib/python3.7:/miniconda3/lib/python3.7/lib-dynload:/miniconda3/lib/python3.7/site-packages\u001B[0m\n",
      "\u001B[34mInvoking script with the following command:\u001B[0m\n",
      "\u001B[34m/miniconda3/bin/python script.py --n_estimators 100 --random_state 0\u001B[0m\n",
      "\u001B[34mImporting Libraries\u001B[0m\n",
      "\u001B[34mModel Function has been defined\u001B[0m\n",
      "\u001B[34m[INFO] Extracting Arguments\u001B[0m\n",
      "\u001B[34mArguments have been defined\u001B[0m\n",
      "\u001B[34msklearn version:  0.23.2\u001B[0m\n",
      "\u001B[34mjoblib version:  1.2.0\u001B[0m\n",
      "\u001B[34m[INFO] Reading Data\u001B[0m\n",
      "\u001B[34mBuilding training and testing datasets\u001B[0m\n",
      "\u001B[34mData has been splitted\u001B[0m\n",
      "\u001B[34mcolumn order: \u001B[0m\n",
      "\u001B[34m['Pregnancies', 'Glucose', 'BloodPressure', 'SkinThickness', 'Insulin', 'BMI', 'DiabetesPedigreeFunction', 'Age']\u001B[0m\n",
      "\u001B[34mlabel column is :  Outcome\u001B[0m\n",
      "\u001B[34mOutcome\u001B[0m\n",
      "\u001B[34mdata shape: \u001B[0m\n",
      "\u001B[34m------train data shape: \u001B[0m\n",
      "\u001B[34mx_train shape:  (614, 8)\u001B[0m\n",
      "\u001B[34my_train shape:  (614,)\u001B[0m\n",
      "\u001B[34m------test data shape: \u001B[0m\n",
      "\u001B[34mx_test shape:  (154, 8)\u001B[0m\n",
      "\u001B[34my_test shape:  (154,)\u001B[0m\n",
      "\u001B[34mTraining Model.......\u001B[0m\n",
      "\u001B[34m[Parallel(n_jobs=1)]: Using backend SequentialBackend with 1 concurrent workers.\u001B[0m\n",
      "\u001B[34m[Parallel(n_jobs=1)]: Done 100 out of 100 | elapsed:    0.1s finished\u001B[0m\n",
      "\u001B[34mModel has been trained\u001B[0m\n",
      "\u001B[34mModel has been saved\u001B[0m\n",
      "\u001B[34mEvaluating Model\u001B[0m\n",
      "\u001B[34m[Parallel(n_jobs=1)]: Using backend SequentialBackend with 1 concurrent workers.\u001B[0m\n",
      "\u001B[34m[Parallel(n_jobs=1)]: Done 100 out of 100 | elapsed:    0.0s finished\u001B[0m\n",
      "\u001B[34mModel has been evaluated\u001B[0m\n",
      "\u001B[34mTest Accuracy:  0.7662337662337663\u001B[0m\n",
      "\u001B[34mClassification Report: \n",
      "              precision    recall  f1-score   support\n",
      "           0       0.82      0.82      0.82        99\n",
      "           1       0.67      0.67      0.67        55\n",
      "    accuracy                           0.77       154\n",
      "   macro avg       0.75      0.75      0.75       154\u001B[0m\n",
      "\u001B[34mweighted avg       0.77      0.77      0.77       154\u001B[0m\n",
      "\u001B[34m2024-04-16 06:30:57,285 sagemaker-containers INFO     Reporting training SUCCESS\u001B[0m\n",
      "\n",
      "2024-04-16 06:31:17 Completed - Training job completed\n",
      "Training seconds: 92\n",
      "Billable seconds: 45\n",
      "Managed Spot Training savings: 51.1%\n"
     ]
    }
   ],
   "source": [
    "#launch training job with asynchronous call\n",
    "sklearn_estimator.fit({'train': trainpath, 'test': testpath}, wait=True)"
   ],
   "metadata": {
    "collapsed": false,
    "ExecuteTime": {
     "end_time": "2024-04-16T06:31:51.784615Z",
     "start_time": "2024-04-16T06:28:43.383287Z"
    }
   },
   "id": "25783e5a12cc94a3",
   "execution_count": 28
  },
  {
   "cell_type": "code",
   "outputs": [
    {
     "name": "stdout",
     "output_type": "stream",
     "text": [
      "\n",
      "2024-04-16 06:31:17 Starting - Preparing the instances for training\n",
      "2024-04-16 06:31:17 Downloading - Downloading the training image\n",
      "2024-04-16 06:31:17 Training - Training image download completed. Training in progress.\n",
      "2024-04-16 06:31:17 Uploading - Uploading generated training model\n",
      "2024-04-16 06:31:17 Completed - Training job completed\n",
      "Model artifact saved at:  s3://sagemaker-us-east-1-975050189259/diabetes-sklearn-2024-04-16-06-28-43-385/output/model.tar.gz\n"
     ]
    }
   ],
   "source": [
    "#deploy the model\n",
    "sklearn_estimator.latest_training_job.wait(logs='None')\n",
    "artifact = sm_boto3.describe_training_job(\n",
    "    TrainingJobName=sklearn_estimator.latest_training_job.name\n",
    ")['ModelArtifacts']['S3ModelArtifacts']\n",
    "\n",
    "print('Model artifact saved at: ', artifact)"
   ],
   "metadata": {
    "collapsed": false,
    "ExecuteTime": {
     "end_time": "2024-04-16T06:55:07.080784Z",
     "start_time": "2024-04-16T06:54:59.809227Z"
    }
   },
   "id": "1368970b4b63fada",
   "execution_count": 29
  },
  {
   "cell_type": "code",
   "outputs": [],
   "source": [
    "from sagemaker.sklearn.model import SKLearnModel\n",
    "from time import gmtime, strftime\n",
    "\n",
    "model_name = 'diabetes-sklearn-model' + strftime(\"%Y-%m-%d-%H-%M-%S\", gmtime())\n",
    "sklearn_model = SKLearnModel(\n",
    "    name=model_name,\n",
    "    model_data=artifact,\n",
    "    role='arn:aws:iam::975050189259:role/awsendtoendrole',\n",
    "    entry_point='script.py',\n",
    "    framework_version=FRAMEWORK_VERSION\n",
    ")"
   ],
   "metadata": {
    "collapsed": false,
    "ExecuteTime": {
     "end_time": "2024-04-16T07:07:40.659851Z",
     "start_time": "2024-04-16T07:07:40.645889Z"
    }
   },
   "id": "3c7912f8dfd9a1f2",
   "execution_count": 30
  },
  {
   "cell_type": "code",
   "outputs": [
    {
     "name": "stdout",
     "output_type": "stream",
     "text": [
      "<sagemaker.sklearn.model.SKLearnModel object at 0x0000017D93D444F0>\n"
     ]
    },
    {
     "data": {
      "text/plain": "'diabetes-sklearn-model2024-04-16-07-07-40'"
     },
     "execution_count": 34,
     "metadata": {},
     "output_type": "execute_result"
    }
   ],
   "source": [
    "print(sklearn_model)\n",
    "model_name"
   ],
   "metadata": {
    "collapsed": false,
    "ExecuteTime": {
     "end_time": "2024-04-16T07:09:51.618688Z",
     "start_time": "2024-04-16T07:09:51.609713Z"
    }
   },
   "id": "a7b0abd1d3621165",
   "execution_count": 34
  },
  {
   "cell_type": "code",
   "outputs": [
    {
     "name": "stderr",
     "output_type": "stream",
     "text": [
      "INFO:sagemaker:Creating model with name: diabetes-sklearn-model2024-04-16-07-07-40\n",
      "INFO:sagemaker:Creating endpoint-config with name diabetes-sklearn-endpoint2024-04-16-07-12-36\n",
      "INFO:sagemaker:Creating endpoint with name diabetes-sklearn-endpoint2024-04-16-07-12-36\n"
     ]
    },
    {
     "name": "stdout",
     "output_type": "stream",
     "text": [
      "-------!"
     ]
    }
   ],
   "source": [
    "endpoint_name = 'diabetes-sklearn-endpoint'+ strftime(\"%Y-%m-%d-%H-%M-%S\", gmtime())\n",
    "predictor = sklearn_model.deploy(\n",
    "    instance_type='ml.t2.medium',\n",
    "    initial_instance_count=1,\n",
    "    endpoint_name=endpoint_name\n",
    ")"
   ],
   "metadata": {
    "collapsed": false,
    "ExecuteTime": {
     "end_time": "2024-04-16T07:16:47.595796Z",
     "start_time": "2024-04-16T07:12:36.665245Z"
    }
   },
   "id": "3c152ff1a6db1b11",
   "execution_count": 35
  },
  {
   "cell_type": "code",
   "outputs": [
    {
     "name": "stdout",
     "output_type": "stream",
     "text": [
      "diabetes-sklearn-endpoint2024-04-16-07-12-36\n"
     ]
    },
    {
     "data": {
      "text/plain": "<sagemaker.sklearn.model.SKLearnPredictor at 0x17d955c1250>"
     },
     "execution_count": 37,
     "metadata": {},
     "output_type": "execute_result"
    }
   ],
   "source": [
    "print(endpoint_name)\n",
    "predictor"
   ],
   "metadata": {
    "collapsed": false,
    "ExecuteTime": {
     "end_time": "2024-04-16T07:18:47.257940Z",
     "start_time": "2024-04-16T07:18:47.224042Z"
    }
   },
   "id": "997994d3bda223f7",
   "execution_count": 37
  },
  {
   "cell_type": "code",
   "outputs": [],
   "source": [
    "a = testx[features][152:154].values.tolist()\n",
    "print(a)\n"
   ],
   "metadata": {
    "collapsed": false,
    "ExecuteTime": {
     "end_time": "2024-04-16T07:41:29.181281Z",
     "start_time": "2024-04-16T07:41:29.167319Z"
    }
   },
   "id": "7fce139cde77357e",
   "execution_count": 72
  },
  {
   "cell_type": "code",
   "outputs": [
    {
     "data": {
      "text/plain": "array([0, 0], dtype=int64)"
     },
     "execution_count": 73,
     "metadata": {},
     "output_type": "execute_result"
    }
   ],
   "source": [
    "predictor.predict(a)"
   ],
   "metadata": {
    "collapsed": false,
    "ExecuteTime": {
     "end_time": "2024-04-16T07:41:31.401639Z",
     "start_time": "2024-04-16T07:41:31.121158Z"
    }
   },
   "id": "5957c7dcfe6880d0",
   "execution_count": 73
  },
  {
   "cell_type": "code",
   "outputs": [
    {
     "data": {
      "text/plain": "{'ResponseMetadata': {'RequestId': 'c18869ff-e71d-4fab-b8f4-bb05a0e3e3bf',\n  'HTTPStatusCode': 200,\n  'HTTPHeaders': {'x-amzn-requestid': 'c18869ff-e71d-4fab-b8f4-bb05a0e3e3bf',\n   'content-type': 'application/x-amz-json-1.1',\n   'date': 'Tue, 16 Apr 2024 08:00:46 GMT',\n   'content-length': '0'},\n  'RetryAttempts': 0}}"
     },
     "execution_count": 74,
     "metadata": {},
     "output_type": "execute_result"
    }
   ],
   "source": [
    "sm_boto3.delete_endpoint(EndpointName=endpoint_name)"
   ],
   "metadata": {
    "collapsed": false,
    "ExecuteTime": {
     "end_time": "2024-04-16T08:00:47.067281Z",
     "start_time": "2024-04-16T08:00:45.411700Z"
    }
   },
   "id": "9001dc8fcb47c6be",
   "execution_count": 74
  },
  {
   "cell_type": "code",
   "outputs": [],
   "source": [],
   "metadata": {
    "collapsed": false
   },
   "id": "36aa0b991aa364fc"
  }
 ],
 "metadata": {
  "kernelspec": {
   "display_name": "Python 3",
   "language": "python",
   "name": "python3"
  },
  "language_info": {
   "codemirror_mode": {
    "name": "ipython",
    "version": 2
   },
   "file_extension": ".py",
   "mimetype": "text/x-python",
   "name": "python",
   "nbconvert_exporter": "python",
   "pygments_lexer": "ipython2",
   "version": "2.7.6"
  }
 },
 "nbformat": 4,
 "nbformat_minor": 5
}
