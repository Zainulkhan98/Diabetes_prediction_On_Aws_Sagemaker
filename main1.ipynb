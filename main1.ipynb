{
 "cells": [
  {
   "cell_type": "code",
   "outputs": [],
   "source": [
    "import boto3\n",
    "import sagemaker\n",
    "import pandas as pd\n",
    "from sklearn.model_selection import train_test_split"
   ],
   "metadata": {
    "collapsed": false
   },
   "id": "b4832321af864f95"
  },
  {
   "cell_type": "code",
   "outputs": [],
   "source": [
    "\n",
    "sm_boto3 = boto3.client('sagemaker')\n",
    "sess = sagemaker.Session()\n",
    "region = sess.boto_session.region_name\n",
    "bucket = 'diabetessagemakerbucket'\n",
    "print(region)\n",
    "print('using this bucket: ', bucket)"
   ],
   "metadata": {
    "collapsed": false
   },
   "id": "6fddf5ca647db79c",
   "execution_count": null
  },
  {
   "cell_type": "markdown",
   "source": [
    "# Load the data"
   ],
   "metadata": {
    "collapsed": false
   },
   "id": "343b15258671b742"
  },
  {
   "cell_type": "code",
   "outputs": [],
   "source": [
    "df = pd.read_csv('diabetes.csv')"
   ],
   "metadata": {
    "collapsed": false
   },
   "id": "753097e5dcc6d8e9",
   "execution_count": null
  },
  {
   "cell_type": "code",
   "outputs": [],
   "source": [
    "features = list(df.columns)\n",
    "print(features)\n",
    "labels = features.pop(-1)\n",
    "print(labels)"
   ],
   "metadata": {
    "collapsed": false
   },
   "id": "4f4c82ff9fd51739",
   "execution_count": null
  },
  {
   "cell_type": "code",
   "outputs": [],
   "source": [
    "x = df[features]\n",
    "y = df[labels]"
   ],
   "metadata": {
    "collapsed": false
   },
   "id": "fadfedcbc0ef6203",
   "execution_count": null
  },
  {
   "cell_type": "code",
   "outputs": [],
   "source": [
    "print(x.shape)\n",
    "print(y.shape)"
   ],
   "metadata": {
    "collapsed": false
   },
   "id": "64de45bfaaeba844",
   "execution_count": null
  },
  {
   "cell_type": "code",
   "outputs": [],
   "source": [
    "x_train, x_test, y_train, y_test = train_test_split(x, y, test_size=0.2, random_state=42)"
   ],
   "metadata": {
    "collapsed": false
   },
   "id": "806e9e3337f83f05",
   "execution_count": null
  },
  {
   "cell_type": "code",
   "outputs": [],
   "source": [
    "trainx = pd.DataFrame(x_train)\n",
    "trainx[labels] = y_train\n",
    "\n",
    "testx = pd.DataFrame(x_test)\n",
    "testx[labels] = y_test"
   ],
   "metadata": {
    "collapsed": false
   },
   "id": "d8384a3a467bcf9a",
   "execution_count": null
  },
  {
   "cell_type": "code",
   "outputs": [],
   "source": [
    "print(trainx.shape)\n",
    "print(testx.shape)"
   ],
   "metadata": {
    "collapsed": false
   },
   "id": "d5dc977e5d16d1df",
   "execution_count": null
  },
  {
   "cell_type": "code",
   "outputs": [],
   "source": [
    "trainx.to_csv('train.csv', index=False)\n",
    "testx.to_csv('test.csv', index=False)"
   ],
   "metadata": {
    "collapsed": false
   },
   "id": "f352cb7ee2a15cd0",
   "execution_count": null
  },
  {
   "cell_type": "code",
   "outputs": [],
   "source": [
    "sk_prefix = 'sagemaker/diabetes/sklearn'\n",
    "trainpath = sess.upload_data(path='train.csv', bucket=bucket, key_prefix=sk_prefix)\n",
    "\n",
    "testpath = sess.upload_data(path='test.csv', bucket=bucket, key_prefix=sk_prefix)\n",
    "\n",
    "print(trainpath)\n",
    "print(testpath)"
   ],
   "metadata": {
    "collapsed": false
   },
   "id": "fecd1cccb109003d",
   "execution_count": null
  },
  {
   "cell_type": "code",
   "outputs": [],
   "source": [
    "%%writefile script.py\n",
    "\n",
    "import os\n",
    "import joblib\n",
    "import pandas as pd\n",
    "from sklearn.metrics import classification_report\n",
    "from sklearn.ensemble import RandomForestClassifier\n",
    "from sklearn.metrics import accuracy_score, precision_score, recall_score, f1_score\n",
    "import pathlib\n",
    "from io import StringIO\n",
    "import boto3\n",
    "import sklearn\n",
    "import argparse\n",
    "\n",
    "print('Importing Libraries')\n",
    "def model_fn(model_dir):\n",
    "    clf = joblib.load(os.path.join(model_dir, \"model.joblib\"))\n",
    "    return clf\n",
    "\n",
    "print('Model Function has been defined')\n",
    "if __name__ == '__main__':\n",
    "    print('[INFO] Extracting Arguments')\n",
    "    parser = argparse.ArgumentParser()\n",
    "    \n",
    "    #Hyperparameters\n",
    "    parser.add_argument('--n_estimators', type=int, default=100)\n",
    "    parser.add_argument('--random_state', type=int, default=0)\n",
    "    \n",
    "    \n",
    "    \n",
    "    # Data, model, and output directories\n",
    "    parser.add_argument('--model-dir', type=str, default=os.environ.get('SM_MODEL_DIR'))\n",
    "    parser.add_argument('--train', type=str, default=os.environ.get('SM_CHANNEL_TRAIN'))\n",
    "    parser.add_argument('--test', type=str, default=os.environ.get('SM_CHANNEL_TEST'))\n",
    "    parser.add_argument('--train-file', type=str, default='train.csv')\n",
    "    parser.add_argument('--test-file',type=str, default='test.csv')\n",
    "    \n",
    "    print('Arguments have been defined')\n",
    "    \n",
    "    args,_ = parser.parse_known_args()\n",
    "    print(\"sklearn version: \",  sklearn.__version__)\n",
    "    print('joblib version: ', joblib.__version__)\n",
    "    \n",
    "    print('[INFO] Reading Data')\n",
    "    print()\n",
    "    \n",
    "    \n",
    "    train_df = pd.read_csv(os.path.join(args.train, args.train_file))\n",
    "    test_df = pd.read_csv(os.path.join(args.test, args.test_file))\n",
    "    \n",
    "    features = list(train_df.columns)\n",
    "    label = features.pop(-1)\n",
    "    \n",
    "    print(\"Building training and testing datasets\")\n",
    "    print()\n",
    "    \n",
    "    x_train = train_df[features]\n",
    "    x_test  = test_df[features]\n",
    "    y_train = train_df[label]\n",
    "    y_test  = test_df[label]\n",
    "    \n",
    "    print('Data has been splitted')\n",
    "    \n",
    "    print('column order: ')\n",
    "    print(features)\n",
    "    print()\n",
    "    \n",
    "    \n",
    "    print('label column is : ',label)\n",
    "    print(label)\n",
    "    print()\n",
    "    \n",
    "    print('data shape: ')\n",
    "    \n",
    "    print(\"------train data shape: \")\n",
    "    print('x_train shape: ', x_train.shape)\n",
    "    print('y_train shape: ', y_train.shape)\n",
    "    \n",
    "    print(\"------test data shape: \")\n",
    "    print('x_test shape: ', x_test.shape)\n",
    "    print('y_test shape: ', y_test.shape)\n",
    "    print()\n",
    "    \n",
    "    print('Training Model.......')\n",
    "    print()\n",
    "    model = RandomForestClassifier(n_estimators=args.n_estimators, random_state=args.random_state,verbose=1)\n",
    "    model.fit(x_train, y_train)\n",
    "    print('Model has been trained')\n",
    "    \n",
    "    model_path = os.path.join(args.model_dir, \"model.joblib\")\n",
    "    joblib.dump(model, model_path)\n",
    "    print('Model has been saved')\n",
    "    print()\n",
    "    \n",
    "    print('Evaluating Model')\n",
    "    y_pred_test = model.predict(x_test)\n",
    "    test_acc = accuracy_score(y_test, y_pred_test)\n",
    "    test_rep = classification_report(y_test, y_pred_test)\n",
    "\n",
    "\n",
    "    print()\n",
    "    print('Model has been evaluated')\n",
    "    print()\n",
    "    print('Test Accuracy: ', test_acc)\n",
    "    print('Classification Report: ')\n",
    "    print(test_rep)\n",
    "    print()"
   ],
   "metadata": {
    "collapsed": false
   },
   "id": "a67ffa7b20243047",
   "execution_count": null
  },
  {
   "cell_type": "code",
   "outputs": [],
   "source": [
    "from sagemaker.sklearn.estimator import SKLearn\n",
    "\n",
    "FRAMEWORK_VERSION = \"0.23-1\"\n",
    "\n",
    "sklearn_estimator = SKLearn(\n",
    "    entry_point='script.py',\n",
    "    role='',#fill in the role(copy the arn from the role you created in the IAM console)\n",
    "    instance_count=1,\n",
    "    instance_type='ml.m5.large',\n",
    "    framework_version=FRAMEWORK_VERSION,\n",
    "    base_job_name='diabetes-sklearn',\n",
    "    hyperparameters={\n",
    "        'n_estimators': 100,\n",
    "        'random_state': 0\n",
    "    },\n",
    "    use_spot_instances=True,\n",
    "    max_wait=7200,\n",
    "    max_run=3600\n",
    ")"
   ],
   "metadata": {
    "collapsed": false
   },
   "id": "5539a4809ac0121b",
   "execution_count": null
  },
  {
   "cell_type": "code",
   "outputs": [],
   "source": [
    "#launch training job with asynchronous call\n",
    "sklearn_estimator.fit({'train': trainpath, 'test': testpath}, wait=True)"
   ],
   "metadata": {
    "collapsed": false
   },
   "id": "25783e5a12cc94a3",
   "execution_count": null
  },
  {
   "cell_type": "code",
   "outputs": [],
   "source": [
    "#deploy the model\n",
    "sklearn_estimator.latest_training_job.wait(logs='None')\n",
    "artifact = sm_boto3.describe_training_job(\n",
    "    TrainingJobName=sklearn_estimator.latest_training_job.name\n",
    ")['ModelArtifacts']['S3ModelArtifacts']\n",
    "\n",
    "print('Model artifact saved at: ', artifact)"
   ],
   "metadata": {
    "collapsed": false
   },
   "id": "1368970b4b63fada",
   "execution_count": null
  },
  {
   "cell_type": "code",
   "outputs": [],
   "source": [
    "from sagemaker.sklearn.model import SKLearnModel\n",
    "from time import gmtime, strftime\n",
    "\n",
    "model_name = 'diabetes-sklearn-model' + strftime(\"%Y-%m-%d-%H-%M-%S\", gmtime())\n",
    "sklearn_model = SKLearnModel(\n",
    "    name=model_name,\n",
    "    model_data=artifact,\n",
    "    role='',#fill in the role(copy the arn from the role you created in the IAM console)\n",
    "    entry_point='script.py',\n",
    "    framework_version=FRAMEWORK_VERSION\n",
    ")"
   ],
   "metadata": {
    "collapsed": false
   },
   "id": "3c7912f8dfd9a1f2",
   "execution_count": null
  },
  {
   "cell_type": "code",
   "outputs": [],
   "source": [
    "print(sklearn_model)\n",
    "model_name"
   ],
   "metadata": {
    "collapsed": false
   },
   "id": "a7b0abd1d3621165",
   "execution_count": null
  },
  {
   "cell_type": "code",
   "outputs": [],
   "source": [
    "endpoint_name = 'diabetes-sklearn-endpoint'+ strftime(\"%Y-%m-%d-%H-%M-%S\", gmtime())\n",
    "predictor = sklearn_model.deploy(\n",
    "    instance_type='ml.t2.medium',\n",
    "    initial_instance_count=1,\n",
    "    endpoint_name=endpoint_name\n",
    ")"
   ],
   "metadata": {
    "collapsed": false
   },
   "id": "3c152ff1a6db1b11",
   "execution_count": null
  },
  {
   "cell_type": "code",
   "outputs": [],
   "source": [
    "print(endpoint_name)\n",
    "predictor"
   ],
   "metadata": {
    "collapsed": false
   },
   "id": "997994d3bda223f7",
   "execution_count": null
  },
  {
   "cell_type": "code",
   "outputs": [],
   "source": [
    "a = testx[features][152:154].values.tolist()\n",
    "print(a)\n"
   ],
   "metadata": {
    "collapsed": false
   },
   "id": "7fce139cde77357e",
   "execution_count": null
  },
  {
   "cell_type": "code",
   "outputs": [],
   "source": [
    "predictor.predict(a)"
   ],
   "metadata": {
    "collapsed": false
   },
   "id": "5957c7dcfe6880d0",
   "execution_count": null
  },
  {
   "cell_type": "code",
   "outputs": [],
   "source": [
    "sm_boto3.delete_endpoint(EndpointName=endpoint_name)"
   ],
   "metadata": {
    "collapsed": false
   },
   "id": "9001dc8fcb47c6be",
   "execution_count": null
  },
  {
   "cell_type": "code",
   "outputs": [],
   "source": [],
   "metadata": {
    "collapsed": false
   },
   "id": "36aa0b991aa364fc"
  }
 ],
 "metadata": {
  "kernelspec": {
   "display_name": "Python 3",
   "language": "python",
   "name": "python3"
  },
  "language_info": {
   "codemirror_mode": {
    "name": "ipython",
    "version": 2
   },
   "file_extension": ".py",
   "mimetype": "text/x-python",
   "name": "python",
   "nbconvert_exporter": "python",
   "pygments_lexer": "ipython2",
   "version": "2.7.6"
  }
 },
 "nbformat": 4,
 "nbformat_minor": 5
}
